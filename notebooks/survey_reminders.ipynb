{
 "cells": [
  {
   "cell_type": "code",
   "execution_count": null,
   "metadata": {},
   "outputs": [],
   "source": [
    "import pandas as pd\n",
    "from pathlib import Path\n",
    "\n",
    "\n",
    "data_dir = Path(\"data\")\n",
    "registration_csv = data_dir / \"registrations.csv\"\n",
    "survey_csv = data_dir / \"survey.csv\""
   ]
  },
  {
   "cell_type": "code",
   "execution_count": null,
   "metadata": {},
   "outputs": [],
   "source": [
    "registration = pd.read_csv(\"registrations.csv\")\n",
    "registered_emails = set(registration[\"Email Address\"])\n",
    "surveyed_emails = set(pd.read_csv(survey_csv)[\"Submitter Email\"])"
   ]
  },
  {
   "cell_type": "code",
   "execution_count": null,
   "metadata": {},
   "outputs": [],
   "source": [
    "missing = registered_emails - surveyed_emails\n",
    "print(\"missing\", len(missing))\n",
    "print(\"total registered\", len(registered_emails))\n",
    "for p in missing:\n",
    "    print(p)"
   ]
  }
 ],
 "metadata": {
  "language_info": {
   "name": "python"
  }
 },
 "nbformat": 4,
 "nbformat_minor": 2
}
