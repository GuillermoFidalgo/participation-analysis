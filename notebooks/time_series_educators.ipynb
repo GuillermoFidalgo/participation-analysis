{
 "cells": [
  {
   "cell_type": "code",
   "execution_count": 3,
   "metadata": {},
   "outputs": [],
   "source": [
    "import frontmatter\n",
    "from collections import defaultdict\n",
    "from pathlib import Path\n",
    "import git\n",
    "from datetime import date\n",
    "import matplotlib.pyplot as plt\n",
    "\n",
    "plt.style.use(\"science\")\n",
    "plt.style.use(\"notebook\")\n",
    "# plt.style.use('fivethirtyeight')"
   ]
  },
  {
   "cell_type": "code",
   "execution_count": 4,
   "metadata": {},
   "outputs": [],
   "source": [
    "educator_keys = [\n",
    "    \"mentor\",\n",
    "    \"instructor\",\n",
    "    \"author\",\n",
    "    \"facilitator\",\n",
    "    \"material\",  # deprecated for author\n",
    "]\n",
    "\n",
    "educator_key_mapping = {\"material\": \"author\"}"
   ]
  },
  {
   "cell_type": "code",
   "execution_count": 8,
   "metadata": {},
   "outputs": [],
   "source": [
    "repo = git.Repo(\"/Users/fuchur/Documents/23/git_sync/hsf.github.io/\")"
   ]
  },
  {
   "cell_type": "code",
   "execution_count": 11,
   "metadata": {},
   "outputs": [
    {
     "name": "stdout",
     "output_type": "stream",
     "text": [
      "d6b6c0e0a45bbea5b21518617b70c83af15e6ac3 defaultdict(<class 'int'>, {})\n",
      "893732142164c76ac62b53f3f10280b318eacddf defaultdict(<class 'int'>, {})\n",
      "0b004de7f6cfd98acc1906021c047241ee2a16df defaultdict(<class 'int'>, {})\n",
      "36939d66c680a9baf0e6c40daa86058de7cd3a60 defaultdict(<class 'int'>, {})\n",
      "170e95ae3232a958480be4389f8aad40a2d816bf defaultdict(<class 'int'>, {})\n",
      "8fb2e6b8bf3cd63d5a9ff0306525d00b0383985b defaultdict(<class 'int'>, {})\n",
      "33a71e4d73247bce9d722be5e73154fb5dcf8e8d defaultdict(<class 'int'>, {})\n",
      "2781ad2684b9091028333df5d74c392d7e89fe81 defaultdict(<class 'int'>, {})\n",
      "800747894f24b36a9e17ad745e63d7957aafeeb8 defaultdict(<class 'int'>, {})\n",
      "bb3322c07748fb9cea2c99f7aa257d30ca6d3db6 defaultdict(<class 'int'>, {})\n",
      "0149b6756473be857534538364a9b7fc59fa28c7 defaultdict(<class 'int'>, {})\n",
      "fe0d9cc84a243460405dc65d2369f839c4f522ed defaultdict(<class 'int'>, {})\n",
      "f98c282441446e4804e4356e922693a94e099c66 defaultdict(<class 'int'>, {})\n",
      "ed06f43c2ee5b74cc084dbecf2877c8a70e2f5d0 defaultdict(<class 'int'>, {})\n",
      "f532942b60057ccf41e9f948162663aaa21c191f defaultdict(<class 'int'>, {})\n",
      "ba00126a78cdb77ee4f97ec390f85ed2aad55b56 defaultdict(<class 'int'>, {})\n",
      "3dd28799b86b3c83d63ce9cfda94e512d07a903f defaultdict(<class 'int'>, {})\n",
      "a98545980ac130b88e14c46990d9fce2b4e23471 defaultdict(<class 'int'>, {})\n",
      "1b36633bae73ffb489931aa54c86dd61b6e56e4c defaultdict(<class 'int'>, {})\n",
      "4e00167e61bce987dec0c06f4354fde7799511c5 defaultdict(<class 'int'>, {})\n",
      "327abce1b1462ecf6c2a91d11df7cfe40ba7993c defaultdict(<class 'int'>, {})\n",
      "b41054377420ffdd473ffe37135ee04a8170ee68 defaultdict(<class 'int'>, {})\n",
      "32033f61acb2d8731bd052a1e97b0f9c7c911c50 defaultdict(<class 'int'>, {})\n",
      "df8031306b06aaaafbe952f64f311fdd8fb4df0b defaultdict(<class 'int'>, {})\n",
      "9e8a7c2d90a9ca07cacd45bcc2f39c645384ac5e defaultdict(<class 'int'>, {})\n",
      "c0a0fd7cc8a8ad3ebd2af0b983e97f014b4f3181 defaultdict(<class 'int'>, {})\n",
      "8d0d3199d3d1514309ff76e6ea39e19fea68df25 defaultdict(<class 'int'>, {})\n",
      "bd6095441dc9f5c1d91fa770349c344d6cb260cb defaultdict(<class 'int'>, {})\n",
      "057028d0d8b6d5baaaee44f5e77e03866e73dd71 defaultdict(<class 'int'>, {})\n",
      "3392b62146e13aa67568c3dc00260dd5f6b4075e defaultdict(<class 'int'>, {})\n",
      "9c4292dc02c354a817ffefa0a845cf5ea212c4a0 defaultdict(<class 'int'>, {})\n",
      "19d2f9ee484ba2e1b474f1e38ca6be3f9bdf45bf defaultdict(<class 'int'>, {})\n",
      "9575567a295acb092df86b7a7b33ca06934e0833 defaultdict(<class 'int'>, {})\n",
      "cf6f7105d8ff99cc3f285e6c92dca1e7205369a7 defaultdict(<class 'int'>, {})\n",
      "59c83510d61262e64a328a7592a2fc7974135210 defaultdict(<class 'int'>, {})\n",
      "ea96d38012ebc559eafafdd237f8c6351c441fa2 defaultdict(<class 'int'>, {})\n",
      "607d3ab77cff4f99e5a333a9fa08d4e037ad2664 defaultdict(<class 'int'>, {})\n",
      "fc1076555ff38c0b3042c60c8d0e76687035a413 defaultdict(<class 'int'>, {})\n",
      "130dc89233d19ebadfdb7aa321d0001b5bb06306 defaultdict(<class 'int'>, {})\n",
      "0d2b4bc3a03580c96296613d2005307f94e5c87a defaultdict(<class 'int'>, {})\n",
      "2c65ec53728170ee16090fd72ec6fa155a3c55fe defaultdict(<class 'int'>, {})\n",
      "8e4c2ea0e722c331ad9a26c65e170ccf8f4ae74d defaultdict(<class 'int'>, {})\n",
      "11ecef7537f8820063375e10cb2e922c2083535d defaultdict(<class 'int'>, {})\n",
      "a534f9b3b02c754064235aa602cd2ed6882e1e13 defaultdict(<class 'int'>, {})\n",
      "840b595d7547a73b5800d2842ea4f5e8eb940d82 defaultdict(<class 'int'>, {})\n",
      "fb69dc32e8d9703a691e268d6f0ff9ba921a1ea2 defaultdict(<class 'int'>, {})\n"
     ]
    }
   ],
   "source": [
    "path = \"_profiles\"\n",
    "\n",
    "educator_counts = defaultdict(list)\n",
    "times = []\n",
    "\n",
    "for commit in repo.iter_commits(paths=path):\n",
    "    try:\n",
    "        traversable = (commit.tree / \"_profiles\").traverse()\n",
    "    except (KeyError, IndexError, ValueError):\n",
    "        continue\n",
    "    try:\n",
    "        educator_count = defaultdict(int)\n",
    "        for entry in traversable:\n",
    "            content = repo.git.show(\"{}:{}\".format(commit.hexsha, entry.path))\n",
    "            try:\n",
    "                dct = frontmatter.loads(content)\n",
    "            except Exception:  # ParserError, where are you defined? ;)\n",
    "                continue\n",
    "            keys = dct.get(\"training_roles\", [])\n",
    "            if keys is None:\n",
    "                continue\n",
    "            roles = [r.casefold() for r in keys]\n",
    "            for k in educator_keys:\n",
    "                if k in roles:\n",
    "                    educator_count[educator_key_mapping.get(k, k)] += 1\n",
    "                else:\n",
    "                    # ensure key is present\n",
    "                    educator_count[educator_key_mapping.get(k, k)] += 0\n",
    "            if roles:\n",
    "                educator_count[\"all\"] += 1\n",
    "        print(commit, educator_count)\n",
    "        for k, v in educator_count.items():\n",
    "            educator_counts[k].append(v)\n",
    "        times.append(commit.authored_date)\n",
    "    except IndexError:\n",
    "        continue"
   ]
  },
  {
   "cell_type": "code",
   "execution_count": 12,
   "metadata": {},
   "outputs": [],
   "source": [
    "dt_times = [date.fromtimestamp(t) for t in times]"
   ]
  },
  {
   "cell_type": "code",
   "execution_count": 13,
   "metadata": {},
   "outputs": [
    {
     "name": "stderr",
     "output_type": "stream",
     "text": [
      "No artists with labels found to put in legend.  Note that artists whose label start with an underscore are ignored when legend() is called with no argument.\n"
     ]
    },
    {
     "data": {
      "text/plain": [
       "<matplotlib.legend.Legend at 0x114a192e0>"
      ]
     },
     "execution_count": 13,
     "metadata": {},
     "output_type": "execute_result"
    },
    {
     "data": {
      "image/png": "[encoded data removed]",
      "text/plain": [
       "<Figure size 800x600 with 1 Axes>"
      ]
     },
     "metadata": {},
     "output_type": "display_data"
    }
   ],
   "source": [
    "_, ax = plt.subplots()\n",
    "\n",
    "for k, vs in educator_counts.items():\n",
    "    if k == \"all\":\n",
    "        continue\n",
    "    print(k, vs)\n",
    "    ax.plot(dt_times, vs, label=k)\n",
    "ax.legend(frameon=False)"
   ]
  },
  {
   "cell_type": "code",
   "execution_count": 14,
   "metadata": {},
   "outputs": [
    {
     "ename": "ValueError",
     "evalue": "Length of values (0) does not match length of index (46)",
     "output_type": "error",
     "traceback": [
      "\u001b[0;31m---------------------------------------------------------------------------\u001b[0m",
      "\u001b[0;31mValueError\u001b[0m                                Traceback (most recent call last)",
      "\u001b[1;32m/Users/fuchur/Documents/23/git_sync/hsf-training/participation-analysis/notebooks/time_series_educators.ipynb Cell 7\u001b[0m in \u001b[0;36m6\n\u001b[1;32m      <a href='vscode-notebook-cell:/Users/fuchur/Documents/23/git_sync/hsf-training/participation-analysis/notebooks/time_series_educators.ipynb#W6sZmlsZQ%3D%3D?line=2'>3</a>\u001b[0m data_dir \u001b[39m=\u001b[39m Path(\u001b[39m\"\u001b[39m\u001b[39m.\u001b[39m\u001b[39m\"\u001b[39m)\u001b[39m.\u001b[39mresolve()\u001b[39m.\u001b[39mparent \u001b[39m/\u001b[39m \u001b[39m\"\u001b[39m\u001b[39mdata\u001b[39m\u001b[39m\"\u001b[39m\n\u001b[1;32m      <a href='vscode-notebook-cell:/Users/fuchur/Documents/23/git_sync/hsf-training/participation-analysis/notebooks/time_series_educators.ipynb#W6sZmlsZQ%3D%3D?line=3'>4</a>\u001b[0m \u001b[39massert\u001b[39;00m data_dir\u001b[39m.\u001b[39mis_dir()\n\u001b[0;32m----> <a href='vscode-notebook-cell:/Users/fuchur/Documents/23/git_sync/hsf-training/participation-analysis/notebooks/time_series_educators.ipynb#W6sZmlsZQ%3D%3D?line=5'>6</a>\u001b[0m pd\u001b[39m.\u001b[39mSeries(educator_counts[\u001b[39m\"\u001b[39m\u001b[39mall\u001b[39m\u001b[39m\"\u001b[39m], index\u001b[39m=\u001b[39mdt_times)\u001b[39m.\u001b[39mto_csv(\n\u001b[1;32m      <a href='vscode-notebook-cell:/Users/fuchur/Documents/23/git_sync/hsf-training/participation-analysis/notebooks/time_series_educators.ipynb#W6sZmlsZQ%3D%3D?line=6'>7</a>\u001b[0m     data_dir \u001b[39m/\u001b[39m \u001b[39m\"\u001b[39m\u001b[39mtotal_educators.csv\u001b[39m\u001b[39m\"\u001b[39m\n\u001b[1;32m      <a href='vscode-notebook-cell:/Users/fuchur/Documents/23/git_sync/hsf-training/participation-analysis/notebooks/time_series_educators.ipynb#W6sZmlsZQ%3D%3D?line=7'>8</a>\u001b[0m )\n",
      "File \u001b[0;32m~/.miniconda3/envs/gnn/lib/python3.9/site-packages/pandas/core/series.py:500\u001b[0m, in \u001b[0;36mSeries.__init__\u001b[0;34m(self, data, index, dtype, name, copy, fastpath)\u001b[0m\n\u001b[1;32m    498\u001b[0m     index \u001b[39m=\u001b[39m default_index(\u001b[39mlen\u001b[39m(data))\n\u001b[1;32m    499\u001b[0m \u001b[39melif\u001b[39;00m is_list_like(data):\n\u001b[0;32m--> 500\u001b[0m     com\u001b[39m.\u001b[39;49mrequire_length_match(data, index)\n\u001b[1;32m    502\u001b[0m \u001b[39m# create/copy the manager\u001b[39;00m\n\u001b[1;32m    503\u001b[0m \u001b[39mif\u001b[39;00m \u001b[39misinstance\u001b[39m(data, (SingleBlockManager, SingleArrayManager)):\n",
      "File \u001b[0;32m~/.miniconda3/envs/gnn/lib/python3.9/site-packages/pandas/core/common.py:576\u001b[0m, in \u001b[0;36mrequire_length_match\u001b[0;34m(data, index)\u001b[0m\n\u001b[1;32m    572\u001b[0m \u001b[39m\"\"\"\u001b[39;00m\n\u001b[1;32m    573\u001b[0m \u001b[39mCheck the length of data matches the length of the index.\u001b[39;00m\n\u001b[1;32m    574\u001b[0m \u001b[39m\"\"\"\u001b[39;00m\n\u001b[1;32m    575\u001b[0m \u001b[39mif\u001b[39;00m \u001b[39mlen\u001b[39m(data) \u001b[39m!=\u001b[39m \u001b[39mlen\u001b[39m(index):\n\u001b[0;32m--> 576\u001b[0m     \u001b[39mraise\u001b[39;00m \u001b[39mValueError\u001b[39;00m(\n\u001b[1;32m    577\u001b[0m         \u001b[39m\"\u001b[39m\u001b[39mLength of values \u001b[39m\u001b[39m\"\u001b[39m\n\u001b[1;32m    578\u001b[0m         \u001b[39mf\u001b[39m\u001b[39m\"\u001b[39m\u001b[39m(\u001b[39m\u001b[39m{\u001b[39;00m\u001b[39mlen\u001b[39m(data)\u001b[39m}\u001b[39;00m\u001b[39m) \u001b[39m\u001b[39m\"\u001b[39m\n\u001b[1;32m    579\u001b[0m         \u001b[39m\"\u001b[39m\u001b[39mdoes not match length of index \u001b[39m\u001b[39m\"\u001b[39m\n\u001b[1;32m    580\u001b[0m         \u001b[39mf\u001b[39m\u001b[39m\"\u001b[39m\u001b[39m(\u001b[39m\u001b[39m{\u001b[39;00m\u001b[39mlen\u001b[39m(index)\u001b[39m}\u001b[39;00m\u001b[39m)\u001b[39m\u001b[39m\"\u001b[39m\n\u001b[1;32m    581\u001b[0m     )\n",
      "\u001b[0;31mValueError\u001b[0m: Length of values (0) does not match length of index (46)"
     ]
    }
   ],
   "source": [
    "import pandas as pd\n",
    "\n",
    "data_dir = Path(\".\").resolve().parent / \"data\"\n",
    "assert data_dir.is_dir()\n",
    "\n",
    "pd.Series(educator_counts[\"all\"], index=dt_times).to_csv(\n",
    "    data_dir / \"total_educators.csv\"\n",
    ")"
   ]
  },
  {
   "cell_type": "code",
   "execution_count": null,
   "metadata": {},
   "outputs": [],
   "source": []
  }
 ],
 "metadata": {
  "kernelspec": {
   "display_name": "Python 3",
   "language": "python",
   "name": "python3"
  },
  "language_info": {
   "codemirror_mode": {
    "name": "ipython",
    "version": 3
   },
   "file_extension": ".py",
   "mimetype": "text/x-python",
   "name": "python",
   "nbconvert_exporter": "python",
   "pygments_lexer": "ipython3",
   "version": "3.9.0"
  }
 },
 "nbformat": 4,
 "nbformat_minor": 0
}
